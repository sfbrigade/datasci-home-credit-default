{
 "cells": [
  {
   "cell_type": "code",
   "execution_count": 9,
   "metadata": {
    "collapsed": true
   },
   "outputs": [],
   "source": [
    "import datetime as dt\n",
    "import os\n",
    "import sys\n",
    "\n",
    "import numpy as np\n",
    "import pandas as pd\n",
    "from scipy import interp\n",
    "import scipy.stats as stats\n",
    "from sklearn.model_selection import train_test_split\n",
    "from sklearn.ensemble import RandomForestClassifier\n",
    "from sklearn.metrics import accuracy_score, auc, confusion_matrix, roc_curve, average_precision_score, precision_recall_curve\n",
    "from sklearn.model_selection import StratifiedKFold\n",
    "import sqlalchemy as sa\n",
    "from sqlalchemy import create_engine\n",
    "import matplotlib.pyplot as plt\n",
    "%matplotlib inline\n",
    "\n",
    "sys.path.append('../')\n",
    "from utilities import sql_utils as su\n",
    "from utilities import model_eval_utils as meu\n",
    "\n",
    "DWH = os.getenv('CD_DWH')\n",
    "engine = create_engine(DWH)\n",
    "\n",
    "pd.options.display.max_columns = 1000\n",
    "pd.options.display.max_rows = 1000\n",
    "pd.set_option('display.float_format', lambda x: '%.3f' % x)"
   ]
  },
  {
   "cell_type": "code",
   "execution_count": 10,
   "metadata": {},
   "outputs": [],
   "source": [
    "QUERY = su.get_sql_as_string('../notebooks/sql/campaign_finance_and_election_results')\n",
    "with engine.begin() as conn:\n",
    "    df = pd.read_sql(QUERY, conn)\n",
    "    df.set_index('candidate_name', inplace=True)"
   ]
  },
  {
   "cell_type": "markdown",
   "metadata": {},
   "source": [
    "## Exploring the Data"
   ]
  },
  {
   "cell_type": "code",
   "execution_count": 14,
   "metadata": {},
   "outputs": [
    {
     "data": {
      "text/html": [
       "<div>\n",
       "<style>\n",
       "    .dataframe thead tr:only-child th {\n",
       "        text-align: right;\n",
       "    }\n",
       "\n",
       "    .dataframe thead th {\n",
       "        text-align: left;\n",
       "    }\n",
       "\n",
       "    .dataframe tbody tr th {\n",
       "        vertical-align: top;\n",
       "    }\n",
       "</style>\n",
       "<table border=\"1\" class=\"dataframe\">\n",
       "  <thead>\n",
       "    <tr style=\"text-align: right;\">\n",
       "      <th></th>\n",
       "      <th>total_transaction</th>\n",
       "      <th>is_winner</th>\n",
       "    </tr>\n",
       "    <tr>\n",
       "      <th>candidate_name</th>\n",
       "      <th></th>\n",
       "      <th></th>\n",
       "    </tr>\n",
       "  </thead>\n",
       "  <tbody>\n",
       "    <tr>\n",
       "      <th>robbonta</th>\n",
       "      <td>1876284.190</td>\n",
       "      <td>1</td>\n",
       "    </tr>\n",
       "    <tr>\n",
       "      <th>gwenlmorris</th>\n",
       "      <td>62408.320</td>\n",
       "      <td>0</td>\n",
       "    </tr>\n",
       "    <tr>\n",
       "      <th>tonythurmond</th>\n",
       "      <td>1247488.450</td>\n",
       "      <td>1</td>\n",
       "    </tr>\n",
       "    <tr>\n",
       "      <th>evanlow</th>\n",
       "      <td>1185313.920</td>\n",
       "      <td>1</td>\n",
       "    </tr>\n",
       "    <tr>\n",
       "      <th>danteacosta</th>\n",
       "      <td>987814.080</td>\n",
       "      <td>1</td>\n",
       "    </tr>\n",
       "    <tr>\n",
       "      <th>cherylcookkallio</th>\n",
       "      <td>3064946.900</td>\n",
       "      <td>0</td>\n",
       "    </tr>\n",
       "    <tr>\n",
       "      <th>ricardolara</th>\n",
       "      <td>1437865.270</td>\n",
       "      <td>1</td>\n",
       "    </tr>\n",
       "    <tr>\n",
       "      <th>clintolivier</th>\n",
       "      <td>736238.920</td>\n",
       "      <td>0</td>\n",
       "    </tr>\n",
       "    <tr>\n",
       "      <th>christysmith</th>\n",
       "      <td>1800899.510</td>\n",
       "      <td>0</td>\n",
       "    </tr>\n",
       "    <tr>\n",
       "      <th>gregconlon</th>\n",
       "      <td>5706.940</td>\n",
       "      <td>0</td>\n",
       "    </tr>\n",
       "    <tr>\n",
       "      <th>karinacervantezalejo</th>\n",
       "      <td>463081.350</td>\n",
       "      <td>0</td>\n",
       "    </tr>\n",
       "    <tr>\n",
       "      <th>phillipchen</th>\n",
       "      <td>540346.720</td>\n",
       "      <td>1</td>\n",
       "    </tr>\n",
       "    <tr>\n",
       "      <th>marclevine</th>\n",
       "      <td>893799.200</td>\n",
       "      <td>1</td>\n",
       "    </tr>\n",
       "    <tr>\n",
       "      <th>hectordiaz</th>\n",
       "      <td>110605.800</td>\n",
       "      <td>0</td>\n",
       "    </tr>\n",
       "    <tr>\n",
       "      <th>tomdaly</th>\n",
       "      <td>1047389.640</td>\n",
       "      <td>1</td>\n",
       "    </tr>\n",
       "    <tr>\n",
       "      <th>leohamel</th>\n",
       "      <td>4750.000</td>\n",
       "      <td>0</td>\n",
       "    </tr>\n",
       "    <tr>\n",
       "      <th>theresasanford</th>\n",
       "      <td>10525.430</td>\n",
       "      <td>0</td>\n",
       "    </tr>\n",
       "    <tr>\n",
       "      <th>jimmygomez</th>\n",
       "      <td>1139146.800</td>\n",
       "      <td>1</td>\n",
       "    </tr>\n",
       "    <tr>\n",
       "      <th>jimbeall</th>\n",
       "      <td>1856166.880</td>\n",
       "      <td>1</td>\n",
       "    </tr>\n",
       "    <tr>\n",
       "      <th>angelarupert</th>\n",
       "      <td>55979.000</td>\n",
       "      <td>0</td>\n",
       "    </tr>\n",
       "    <tr>\n",
       "      <th>ronnehring</th>\n",
       "      <td>1080.000</td>\n",
       "      <td>0</td>\n",
       "    </tr>\n",
       "    <tr>\n",
       "      <th>heathflora</th>\n",
       "      <td>315226.510</td>\n",
       "      <td>1</td>\n",
       "    </tr>\n",
       "    <tr>\n",
       "      <th>richardbloom</th>\n",
       "      <td>582319.050</td>\n",
       "      <td>1</td>\n",
       "    </tr>\n",
       "    <tr>\n",
       "      <th>kansenchu</th>\n",
       "      <td>392798.140</td>\n",
       "      <td>1</td>\n",
       "    </tr>\n",
       "    <tr>\n",
       "      <th>jamesgallagher</th>\n",
       "      <td>748330.330</td>\n",
       "      <td>1</td>\n",
       "    </tr>\n",
       "    <tr>\n",
       "      <th>laurafriedman</th>\n",
       "      <td>1200338.980</td>\n",
       "      <td>1</td>\n",
       "    </tr>\n",
       "    <tr>\n",
       "      <th>anthonyrendon</th>\n",
       "      <td>2682882.440</td>\n",
       "      <td>1</td>\n",
       "    </tr>\n",
       "    <tr>\n",
       "      <th>billdodd</th>\n",
       "      <td>2559861.050</td>\n",
       "      <td>1</td>\n",
       "    </tr>\n",
       "    <tr>\n",
       "      <th>clairechiara</th>\n",
       "      <td>3431.910</td>\n",
       "      <td>0</td>\n",
       "    </tr>\n",
       "    <tr>\n",
       "      <th>timgrayson</th>\n",
       "      <td>770400.440</td>\n",
       "      <td>1</td>\n",
       "    </tr>\n",
       "    <tr>\n",
       "      <th>chadmayes</th>\n",
       "      <td>1499840.190</td>\n",
       "      <td>1</td>\n",
       "    </tr>\n",
       "    <tr>\n",
       "      <th>bobbrunton</th>\n",
       "      <td>11242.930</td>\n",
       "      <td>0</td>\n",
       "    </tr>\n",
       "    <tr>\n",
       "      <th>adrinnazarian</th>\n",
       "      <td>796334.190</td>\n",
       "      <td>1</td>\n",
       "    </tr>\n",
       "    <tr>\n",
       "      <th>sabrinacervantes</th>\n",
       "      <td>2044413.530</td>\n",
       "      <td>1</td>\n",
       "    </tr>\n",
       "    <tr>\n",
       "      <th>markstone</th>\n",
       "      <td>349980.760</td>\n",
       "      <td>1</td>\n",
       "    </tr>\n",
       "    <tr>\n",
       "      <th>jimpatterson</th>\n",
       "      <td>703593.970</td>\n",
       "      <td>1</td>\n",
       "    </tr>\n",
       "    <tr>\n",
       "      <th>bettytyee</th>\n",
       "      <td>641839.090</td>\n",
       "      <td>0</td>\n",
       "    </tr>\n",
       "    <tr>\n",
       "      <th>pattylopez</th>\n",
       "      <td>139674.040</td>\n",
       "      <td>0</td>\n",
       "    </tr>\n",
       "    <tr>\n",
       "      <th>brianmaienschein</th>\n",
       "      <td>743322.660</td>\n",
       "      <td>1</td>\n",
       "    </tr>\n",
       "    <tr>\n",
       "      <th>alexpadilla</th>\n",
       "      <td>530716.870</td>\n",
       "      <td>0</td>\n",
       "    </tr>\n",
       "    <tr>\n",
       "      <th>miguelsantiago</th>\n",
       "      <td>1275979.690</td>\n",
       "      <td>1</td>\n",
       "    </tr>\n",
       "    <tr>\n",
       "      <th>travisallen</th>\n",
       "      <td>549858.540</td>\n",
       "      <td>1</td>\n",
       "    </tr>\n",
       "    <tr>\n",
       "      <th>philting</th>\n",
       "      <td>1160072.410</td>\n",
       "      <td>1</td>\n",
       "    </tr>\n",
       "    <tr>\n",
       "      <th>jayobernolte</th>\n",
       "      <td>427369.080</td>\n",
       "      <td>1</td>\n",
       "    </tr>\n",
       "    <tr>\n",
       "      <th>sharonquirksilva</th>\n",
       "      <td>4327551.140</td>\n",
       "      <td>1</td>\n",
       "    </tr>\n",
       "    <tr>\n",
       "      <th>almuratsuchi</th>\n",
       "      <td>4696068.860</td>\n",
       "      <td>1</td>\n",
       "    </tr>\n",
       "    <tr>\n",
       "      <th>hannahbethjackson</th>\n",
       "      <td>695534.220</td>\n",
       "      <td>1</td>\n",
       "    </tr>\n",
       "    <tr>\n",
       "      <th>kevinkiley</th>\n",
       "      <td>607248.750</td>\n",
       "      <td>1</td>\n",
       "    </tr>\n",
       "    <tr>\n",
       "      <th>ryankbrown</th>\n",
       "      <td>13099.070</td>\n",
       "      <td>0</td>\n",
       "    </tr>\n",
       "    <tr>\n",
       "      <th>johnchiang</th>\n",
       "      <td>4207049.260</td>\n",
       "      <td>0</td>\n",
       "    </tr>\n",
       "    <tr>\n",
       "      <th>ashleyswearengin</th>\n",
       "      <td>11800.000</td>\n",
       "      <td>0</td>\n",
       "    </tr>\n",
       "    <tr>\n",
       "      <th>cristinagarcia</th>\n",
       "      <td>1040352.400</td>\n",
       "      <td>1</td>\n",
       "    </tr>\n",
       "    <tr>\n",
       "      <th>frankbigelow</th>\n",
       "      <td>1014720.810</td>\n",
       "      <td>1</td>\n",
       "    </tr>\n",
       "    <tr>\n",
       "      <th>marcberman</th>\n",
       "      <td>950660.200</td>\n",
       "      <td>1</td>\n",
       "    </tr>\n",
       "    <tr>\n",
       "      <th>kevinmccarty</th>\n",
       "      <td>707453.070</td>\n",
       "      <td>1</td>\n",
       "    </tr>\n",
       "    <tr>\n",
       "      <th>joaquinarambula</th>\n",
       "      <td>1882467.510</td>\n",
       "      <td>1</td>\n",
       "    </tr>\n",
       "    <tr>\n",
       "      <th>peteramundson</th>\n",
       "      <td>19925.000</td>\n",
       "      <td>0</td>\n",
       "    </tr>\n",
       "    <tr>\n",
       "      <th>linglingchang</th>\n",
       "      <td>3373302.920</td>\n",
       "      <td>0</td>\n",
       "    </tr>\n",
       "    <tr>\n",
       "      <th>dawnortizlegg</th>\n",
       "      <td>2716771.460</td>\n",
       "      <td>0</td>\n",
       "    </tr>\n",
       "    <tr>\n",
       "      <th>michaeldantonovich</th>\n",
       "      <td>1822447.130</td>\n",
       "      <td>0</td>\n",
       "    </tr>\n",
       "    <tr>\n",
       "      <th>kenvogel</th>\n",
       "      <td>449197.250</td>\n",
       "      <td>0</td>\n",
       "    </tr>\n",
       "    <tr>\n",
       "      <th>kevinmullin</th>\n",
       "      <td>853697.800</td>\n",
       "      <td>1</td>\n",
       "    </tr>\n",
       "    <tr>\n",
       "      <th>richardreed</th>\n",
       "      <td>22533.710</td>\n",
       "      <td>0</td>\n",
       "    </tr>\n",
       "    <tr>\n",
       "      <th>gavinnewsom</th>\n",
       "      <td>9724048.550</td>\n",
       "      <td>1</td>\n",
       "    </tr>\n",
       "    <tr>\n",
       "      <th>jacquiirwin</th>\n",
       "      <td>1371656.550</td>\n",
       "      <td>1</td>\n",
       "    </tr>\n",
       "    <tr>\n",
       "      <th>raulbocanegra</th>\n",
       "      <td>1140968.090</td>\n",
       "      <td>1</td>\n",
       "    </tr>\n",
       "    <tr>\n",
       "      <th>gregrodriguez</th>\n",
       "      <td>212028.240</td>\n",
       "      <td>0</td>\n",
       "    </tr>\n",
       "    <tr>\n",
       "      <th>ashkalra</th>\n",
       "      <td>1104259.840</td>\n",
       "      <td>1</td>\n",
       "    </tr>\n",
       "    <tr>\n",
       "      <th>stevefazio</th>\n",
       "      <td>1351208.790</td>\n",
       "      <td>0</td>\n",
       "    </tr>\n",
       "    <tr>\n",
       "      <th>jordancunningham</th>\n",
       "      <td>1259747.510</td>\n",
       "      <td>1</td>\n",
       "    </tr>\n",
       "    <tr>\n",
       "      <th>annacaballero</th>\n",
       "      <td>646072.510</td>\n",
       "      <td>1</td>\n",
       "    </tr>\n",
       "    <tr>\n",
       "      <th>henrystern</th>\n",
       "      <td>2925714.950</td>\n",
       "      <td>1</td>\n",
       "    </tr>\n",
       "    <tr>\n",
       "      <th>matthewharper</th>\n",
       "      <td>261584.140</td>\n",
       "      <td>1</td>\n",
       "    </tr>\n",
       "    <tr>\n",
       "      <th>noracampos</th>\n",
       "      <td>547205.770</td>\n",
       "      <td>0</td>\n",
       "    </tr>\n",
       "    <tr>\n",
       "      <th>kencooley</th>\n",
       "      <td>660114.070</td>\n",
       "      <td>1</td>\n",
       "    </tr>\n",
       "    <tr>\n",
       "      <th>cathleengalgiani</th>\n",
       "      <td>1848650.120</td>\n",
       "      <td>1</td>\n",
       "    </tr>\n",
       "    <tr>\n",
       "      <th>eduardogarcia</th>\n",
       "      <td>648255.320</td>\n",
       "      <td>1</td>\n",
       "    </tr>\n",
       "    <tr>\n",
       "      <th>davejones</th>\n",
       "      <td>960895.220</td>\n",
       "      <td>1</td>\n",
       "    </tr>\n",
       "    <tr>\n",
       "      <th>seanjaypanahi</th>\n",
       "      <td>78869.630</td>\n",
       "      <td>0</td>\n",
       "    </tr>\n",
       "    <tr>\n",
       "      <th>toddgloria</th>\n",
       "      <td>747558.090</td>\n",
       "      <td>1</td>\n",
       "    </tr>\n",
       "    <tr>\n",
       "      <th>nancyskinner</th>\n",
       "      <td>1746494.120</td>\n",
       "      <td>1</td>\n",
       "    </tr>\n",
       "    <tr>\n",
       "      <th>sierraroberts</th>\n",
       "      <td>4300.000</td>\n",
       "      <td>0</td>\n",
       "    </tr>\n",
       "    <tr>\n",
       "      <th>stevenbradford</th>\n",
       "      <td>955297.400</td>\n",
       "      <td>1</td>\n",
       "    </tr>\n",
       "    <tr>\n",
       "      <th>luisawong</th>\n",
       "      <td>17281.910</td>\n",
       "      <td>0</td>\n",
       "    </tr>\n",
       "    <tr>\n",
       "      <th>tomtorlakson</th>\n",
       "      <td>0.000</td>\n",
       "      <td>1</td>\n",
       "    </tr>\n",
       "    <tr>\n",
       "      <th>petepeterson</th>\n",
       "      <td>100.000</td>\n",
       "      <td>0</td>\n",
       "    </tr>\n",
       "    <tr>\n",
       "      <th>rubenmacareno</th>\n",
       "      <td>1301.130</td>\n",
       "      <td>0</td>\n",
       "    </tr>\n",
       "    <tr>\n",
       "      <th>stevefox</th>\n",
       "      <td>162738.620</td>\n",
       "      <td>0</td>\n",
       "    </tr>\n",
       "    <tr>\n",
       "      <th>rockychavez</th>\n",
       "      <td>239512.420</td>\n",
       "      <td>1</td>\n",
       "    </tr>\n",
       "    <tr>\n",
       "      <th>ardykassakhian</th>\n",
       "      <td>1111183.940</td>\n",
       "      <td>0</td>\n",
       "    </tr>\n",
       "    <tr>\n",
       "      <th>chrisholden</th>\n",
       "      <td>821194.400</td>\n",
       "      <td>1</td>\n",
       "    </tr>\n",
       "    <tr>\n",
       "      <th>baronbruno</th>\n",
       "      <td>30088.660</td>\n",
       "      <td>0</td>\n",
       "    </tr>\n",
       "    <tr>\n",
       "      <th>briancaples</th>\n",
       "      <td>20302.000</td>\n",
       "      <td>0</td>\n",
       "    </tr>\n",
       "    <tr>\n",
       "      <th>caseychiggins</th>\n",
       "      <td>23073.620</td>\n",
       "      <td>0</td>\n",
       "    </tr>\n",
       "    <tr>\n",
       "      <th>karinaonofre</th>\n",
       "      <td>1001.130</td>\n",
       "      <td>0</td>\n",
       "    </tr>\n",
       "    <tr>\n",
       "      <th>catharinebaker</th>\n",
       "      <td>3398496.470</td>\n",
       "      <td>1</td>\n",
       "    </tr>\n",
       "    <tr>\n",
       "      <th>davidchiu</th>\n",
       "      <td>1053233.750</td>\n",
       "      <td>1</td>\n",
       "    </tr>\n",
       "    <tr>\n",
       "      <th>roseannslonskybreault</th>\n",
       "      <td>6800.000</td>\n",
       "      <td>0</td>\n",
       "    </tr>\n",
       "    <tr>\n",
       "      <th>palmerkain</th>\n",
       "      <td>35765.620</td>\n",
       "      <td>0</td>\n",
       "    </tr>\n",
       "    <tr>\n",
       "      <th>madisonnguyen</th>\n",
       "      <td>1159518.930</td>\n",
       "      <td>0</td>\n",
       "    </tr>\n",
       "    <tr>\n",
       "      <th>autumnburke</th>\n",
       "      <td>984130.240</td>\n",
       "      <td>1</td>\n",
       "    </tr>\n",
       "    <tr>\n",
       "      <th>abelmaldonado</th>\n",
       "      <td>0.000</td>\n",
       "      <td>0</td>\n",
       "    </tr>\n",
       "    <tr>\n",
       "      <th>freddierodriguez</th>\n",
       "      <td>704391.440</td>\n",
       "      <td>1</td>\n",
       "    </tr>\n",
       "    <tr>\n",
       "      <th>marshalltuck</th>\n",
       "      <td>9577.950</td>\n",
       "      <td>0</td>\n",
       "    </tr>\n",
       "    <tr>\n",
       "      <th>marcsteinorth</th>\n",
       "      <td>2543662.110</td>\n",
       "      <td>1</td>\n",
       "    </tr>\n",
       "    <tr>\n",
       "      <th>jimcooper</th>\n",
       "      <td>1394415.420</td>\n",
       "      <td>1</td>\n",
       "    </tr>\n",
       "    <tr>\n",
       "      <th>ofeliavelardegarcia</th>\n",
       "      <td>6350.000</td>\n",
       "      <td>0</td>\n",
       "    </tr>\n",
       "    <tr>\n",
       "      <th>janekim</th>\n",
       "      <td>1564695.860</td>\n",
       "      <td>0</td>\n",
       "    </tr>\n",
       "    <tr>\n",
       "      <th>vickiveenker</th>\n",
       "      <td>735733.740</td>\n",
       "      <td>0</td>\n",
       "    </tr>\n",
       "    <tr>\n",
       "      <th>briandahle</th>\n",
       "      <td>569383.760</td>\n",
       "      <td>1</td>\n",
       "    </tr>\n",
       "    <tr>\n",
       "      <th>shirleynweber</th>\n",
       "      <td>515148.870</td>\n",
       "      <td>1</td>\n",
       "    </tr>\n",
       "    <tr>\n",
       "      <th>kerryjnelson</th>\n",
       "      <td>5100.000</td>\n",
       "      <td>0</td>\n",
       "    </tr>\n",
       "    <tr>\n",
       "      <th>mariewaldron</th>\n",
       "      <td>363161.670</td>\n",
       "      <td>1</td>\n",
       "    </tr>\n",
       "    <tr>\n",
       "      <th>patrickodonnell</th>\n",
       "      <td>868133.020</td>\n",
       "      <td>1</td>\n",
       "    </tr>\n",
       "    <tr>\n",
       "      <th>melissamelendez</th>\n",
       "      <td>358800.000</td>\n",
       "      <td>1</td>\n",
       "    </tr>\n",
       "    <tr>\n",
       "      <th>johnrenison</th>\n",
       "      <td>84287.500</td>\n",
       "      <td>0</td>\n",
       "    </tr>\n",
       "  </tbody>\n",
       "</table>\n",
       "</div>"
      ],
      "text/plain": [
       "                       total_transaction  is_winner\n",
       "candidate_name                                     \n",
       "robbonta                     1876284.190          1\n",
       "gwenlmorris                    62408.320          0\n",
       "tonythurmond                 1247488.450          1\n",
       "evanlow                      1185313.920          1\n",
       "danteacosta                   987814.080          1\n",
       "cherylcookkallio             3064946.900          0\n",
       "ricardolara                  1437865.270          1\n",
       "clintolivier                  736238.920          0\n",
       "christysmith                 1800899.510          0\n",
       "gregconlon                      5706.940          0\n",
       "karinacervantezalejo          463081.350          0\n",
       "phillipchen                   540346.720          1\n",
       "marclevine                    893799.200          1\n",
       "hectordiaz                    110605.800          0\n",
       "tomdaly                      1047389.640          1\n",
       "leohamel                        4750.000          0\n",
       "theresasanford                 10525.430          0\n",
       "jimmygomez                   1139146.800          1\n",
       "jimbeall                     1856166.880          1\n",
       "angelarupert                   55979.000          0\n",
       "ronnehring                      1080.000          0\n",
       "heathflora                    315226.510          1\n",
       "richardbloom                  582319.050          1\n",
       "kansenchu                     392798.140          1\n",
       "jamesgallagher                748330.330          1\n",
       "laurafriedman                1200338.980          1\n",
       "anthonyrendon                2682882.440          1\n",
       "billdodd                     2559861.050          1\n",
       "clairechiara                    3431.910          0\n",
       "timgrayson                    770400.440          1\n",
       "chadmayes                    1499840.190          1\n",
       "bobbrunton                     11242.930          0\n",
       "adrinnazarian                 796334.190          1\n",
       "sabrinacervantes             2044413.530          1\n",
       "markstone                     349980.760          1\n",
       "jimpatterson                  703593.970          1\n",
       "bettytyee                     641839.090          0\n",
       "pattylopez                    139674.040          0\n",
       "brianmaienschein              743322.660          1\n",
       "alexpadilla                   530716.870          0\n",
       "miguelsantiago               1275979.690          1\n",
       "travisallen                   549858.540          1\n",
       "philting                     1160072.410          1\n",
       "jayobernolte                  427369.080          1\n",
       "sharonquirksilva             4327551.140          1\n",
       "almuratsuchi                 4696068.860          1\n",
       "hannahbethjackson             695534.220          1\n",
       "kevinkiley                    607248.750          1\n",
       "ryankbrown                     13099.070          0\n",
       "johnchiang                   4207049.260          0\n",
       "ashleyswearengin               11800.000          0\n",
       "cristinagarcia               1040352.400          1\n",
       "frankbigelow                 1014720.810          1\n",
       "marcberman                    950660.200          1\n",
       "kevinmccarty                  707453.070          1\n",
       "joaquinarambula              1882467.510          1\n",
       "peteramundson                  19925.000          0\n",
       "linglingchang                3373302.920          0\n",
       "dawnortizlegg                2716771.460          0\n",
       "michaeldantonovich           1822447.130          0\n",
       "kenvogel                      449197.250          0\n",
       "kevinmullin                   853697.800          1\n",
       "richardreed                    22533.710          0\n",
       "gavinnewsom                  9724048.550          1\n",
       "jacquiirwin                  1371656.550          1\n",
       "raulbocanegra                1140968.090          1\n",
       "gregrodriguez                 212028.240          0\n",
       "ashkalra                     1104259.840          1\n",
       "stevefazio                   1351208.790          0\n",
       "jordancunningham             1259747.510          1\n",
       "annacaballero                 646072.510          1\n",
       "henrystern                   2925714.950          1\n",
       "matthewharper                 261584.140          1\n",
       "noracampos                    547205.770          0\n",
       "kencooley                     660114.070          1\n",
       "cathleengalgiani             1848650.120          1\n",
       "eduardogarcia                 648255.320          1\n",
       "davejones                     960895.220          1\n",
       "seanjaypanahi                  78869.630          0\n",
       "toddgloria                    747558.090          1\n",
       "nancyskinner                 1746494.120          1\n",
       "sierraroberts                   4300.000          0\n",
       "stevenbradford                955297.400          1\n",
       "luisawong                      17281.910          0\n",
       "tomtorlakson                       0.000          1\n",
       "petepeterson                     100.000          0\n",
       "rubenmacareno                   1301.130          0\n",
       "stevefox                      162738.620          0\n",
       "rockychavez                   239512.420          1\n",
       "ardykassakhian               1111183.940          0\n",
       "chrisholden                   821194.400          1\n",
       "baronbruno                     30088.660          0\n",
       "briancaples                    20302.000          0\n",
       "caseychiggins                  23073.620          0\n",
       "karinaonofre                    1001.130          0\n",
       "catharinebaker               3398496.470          1\n",
       "davidchiu                    1053233.750          1\n",
       "roseannslonskybreault           6800.000          0\n",
       "palmerkain                     35765.620          0\n",
       "madisonnguyen                1159518.930          0\n",
       "autumnburke                   984130.240          1\n",
       "abelmaldonado                      0.000          0\n",
       "freddierodriguez              704391.440          1\n",
       "marshalltuck                    9577.950          0\n",
       "marcsteinorth                2543662.110          1\n",
       "jimcooper                    1394415.420          1\n",
       "ofeliavelardegarcia             6350.000          0\n",
       "janekim                      1564695.860          0\n",
       "vickiveenker                  735733.740          0\n",
       "briandahle                    569383.760          1\n",
       "shirleynweber                 515148.870          1\n",
       "kerryjnelson                    5100.000          0\n",
       "mariewaldron                  363161.670          1\n",
       "patrickodonnell               868133.020          1\n",
       "melissamelendez               358800.000          1\n",
       "johnrenison                    84287.500          0"
      ]
     },
     "execution_count": 14,
     "metadata": {},
     "output_type": "execute_result"
    }
   ],
   "source": [
    "df"
   ]
  },
  {
   "cell_type": "markdown",
   "metadata": {},
   "source": [
    "## Machine Learning"
   ]
  },
  {
   "cell_type": "code",
   "execution_count": 15,
   "metadata": {
    "collapsed": true
   },
   "outputs": [],
   "source": [
    "def split_dataset(dataset, train_percentage, feature_headers, target_header):\n",
    "    \"\"\"\n",
    "    Split the dataset with train_percentage\n",
    "    \n",
    "    Keyword Args:\n",
    "    dataset: The Actual Dataset\n",
    "    train_percentage: Percentage of Dataset to split into Training\n",
    "    feature_headers: columns that are features to include\n",
    "    target_header: column that is the outcome variable of interest\n",
    "    :return: train_x, test_x, train_y, test_y\n",
    "    \"\"\"\n",
    "\n",
    "    # Split dataset into train and test dataset\n",
    "    train_x, test_x, train_y, test_y = train_test_split(dataset[feature_headers], dataset[target_header],\n",
    "                                                        train_size=train_percentage)\n",
    "    return train_x, test_x, train_y, test_y"
   ]
  },
  {
   "cell_type": "code",
   "execution_count": 16,
   "metadata": {},
   "outputs": [
    {
     "name": "stderr",
     "output_type": "stream",
     "text": [
      "/Users/lauramcrae/anaconda3/lib/python3.6/site-packages/sklearn/model_selection/_split.py:2026: FutureWarning: From version 0.21, test_size will always complement train_size unless both are specified.\n",
      "  FutureWarning)\n"
     ]
    }
   ],
   "source": [
    "target_header = 'is_winner'\n",
    "feature_headers = list(set(df.columns) - set([target_header]))\n",
    "X = df.loc[:,df.columns != 'is_winner']\n",
    "y = df.is_winner\n",
    "train_x, test_x, train_y, test_y = split_dataset(df, 0.7, feature_headers, target_header)"
   ]
  },
  {
   "cell_type": "code",
   "execution_count": 17,
   "metadata": {},
   "outputs": [
    {
     "name": "stdout",
     "output_type": "stream",
     "text": [
      "Train_x Shape ::  (81, 1)\n",
      "Train_y Shape ::  (81,)\n",
      "Test_x Shape ::  (35, 1)\n",
      "Test_y Shape ::  (35,)\n"
     ]
    }
   ],
   "source": [
    "# Train and Test dataset size details\n",
    "print(\"Train_x Shape :: \", train_x.shape)\n",
    "print(\"Train_y Shape :: \", train_y.shape)\n",
    "print(\"Test_x Shape :: \", test_x.shape)\n",
    "print(\"Test_y Shape :: \", test_y.shape)"
   ]
  },
  {
   "cell_type": "code",
   "execution_count": 18,
   "metadata": {},
   "outputs": [
    {
     "data": {
      "text/plain": [
       "Index(['total_transaction', 'is_winner'], dtype='object')"
      ]
     },
     "execution_count": 18,
     "metadata": {},
     "output_type": "execute_result"
    }
   ],
   "source": [
    "df.columns"
   ]
  },
  {
   "cell_type": "markdown",
   "metadata": {},
   "source": [
    "## Support Vector Classification\n",
    "Used GridSearch CV (not shown) to find the shown parameters. Added 3rd degree polynomial features to our numeric data and also used standard scaling.\n",
    "This ROC curve was not as smooth as the Random Forest, but that is not necessarily a bad thing."
   ]
  },
  {
   "cell_type": "code",
   "execution_count": 19,
   "metadata": {
    "collapsed": true
   },
   "outputs": [],
   "source": [
    "from sklearn.svm import SVC\n",
    "from sklearn.pipeline import Pipeline\n",
    "from sklearn.preprocessing import StandardScaler\n",
    "from sklearn.model_selection import StratifiedShuffleSplit\n",
    "from sklearn.model_selection import GridSearchCV\n",
    "from sklearn.model_selection import StratifiedKFold\n",
    "#param_grid = [\n",
    "#  {'C': [1, 10, 100, 1000], 'kernel': ['linear']},\n",
    "#  {'C': [1, 10, 100, 1000], 'gamma': [0.001, 0.0001], 'kernel': ['rbf']},\n",
    "# ]\n",
    "#cv_svm = StratifiedKFold(n_splits=6)\n",
    "#clf = GridSearchCV(SVC(), tuned_parameters, cv=cv_svm, n_jobs=3)\n",
    "#clf.fit(train_x,train_y)\n",
    "\n",
    "#print(\"Best parameters set found on development set:\")\n",
    "#print()\n",
    "#print(clf.best_params_)"
   ]
  },
  {
   "cell_type": "code",
   "execution_count": 20,
   "metadata": {
    "collapsed": true
   },
   "outputs": [],
   "source": [
    "#cv_svm = StratifiedKFold(n_splits=6)\n",
    "#grid = GridSearchCV(SVC(), param_grid=param_grid, cv=cv_svm)\n",
    "#grid.fit(X, y)\n",
    "\n",
    "#print(\"The best parameters are %s with a score of %0.2f\"\n",
    "#      % (grid.best_params_, grid.best_score_))"
   ]
  },
  {
   "cell_type": "code",
   "execution_count": 21,
   "metadata": {},
   "outputs": [],
   "source": [
    "from sklearn.preprocessing import PolynomialFeatures\n",
    "from sklearn.svm import SVC\n",
    "rbf_kernel_svm_clf = Pipeline((\n",
    " (\"poly_features\", PolynomialFeatures(degree=3)),   \n",
    " (\"scaler\", StandardScaler()),\n",
    " (\"svm_clf\", SVC(C=1, gamma=1.0000000000000001e-09, probability=True))\n",
    " ))\n",
    "trained_svm = rbf_kernel_svm_clf.fit(train_x, train_y)\n",
    " #Evaluation"
   ]
  },
  {
   "cell_type": "code",
   "execution_count": 22,
   "metadata": {
    "collapsed": true
   },
   "outputs": [],
   "source": [
    "cv_svm = StratifiedKFold(n_splits=6)"
   ]
  },
  {
   "cell_type": "code",
   "execution_count": 23,
   "metadata": {},
   "outputs": [
    {
     "data": {
      "image/png": "[encoded data removed]",
      "text/plain": [
       "<matplotlib.figure.Figure at 0x1a1ffbbb38>"
      ]
     },
     "metadata": {},
     "output_type": "display_data"
    }
   ],
   "source": [
    "meu.draw_cv_roc_curve(trained_svm, cv_svm, train_x, train_y)"
   ]
  },
  {
   "cell_type": "code",
   "execution_count": 24,
   "metadata": {},
   "outputs": [
    {
     "data": {
      "image/png": "[encoded data removed]",
      "text/plain": [
       "<matplotlib.figure.Figure at 0x1a18f1e5c0>"
      ]
     },
     "metadata": {},
     "output_type": "display_data"
    }
   ],
   "source": [
    "meu.plot_precision_recall_curve(trained_svm, test_x, test_y)"
   ]
  },
  {
   "cell_type": "markdown",
   "metadata": {},
   "source": [
    "## Soft Voting Classifier\n",
    "Used the Random forest Vince was working on in combination with my SVC and a simple logistic regression model to see if the combination of these models would perform better. The accuracy seems to go down in combination with the logistic and eachother as well."
   ]
  },
  {
   "cell_type": "code",
   "execution_count": 25,
   "metadata": {},
   "outputs": [
    {
     "data": {
      "text/plain": [
       "VotingClassifier(estimators=[('lr', LogisticRegression(C=1.0, class_weight=None, dual=False, fit_intercept=True,\n",
       "          intercept_scaling=1, max_iter=100, multi_class='ovr', n_jobs=1,\n",
       "          penalty='l2', random_state=None, solver='liblinear', tol=0.0001,\n",
       "          verbose=0, warm_start=False)), ('rf', RandomF...  max_iter=-1, probability=True, random_state=None, shrinking=True,\n",
       "  tol=0.001, verbose=False)))))],\n",
       "         flatten_transform=None, n_jobs=1, voting='soft', weights=None)"
      ]
     },
     "execution_count": 25,
     "metadata": {},
     "output_type": "execute_result"
    }
   ],
   "source": [
    "from sklearn.ensemble import RandomForestClassifier\n",
    "from sklearn.ensemble import VotingClassifier\n",
    "from sklearn.linear_model import LogisticRegression\n",
    "from sklearn.svm import SVC\n",
    "log_clf = LogisticRegression()\n",
    "rnd_clf = RandomForestClassifier()\n",
    "rbf_kernel_svm_clf = Pipeline((\n",
    " (\"poly_features\", PolynomialFeatures(degree=3)),   \n",
    " (\"scaler\", StandardScaler()),\n",
    " (\"svm_clf\", SVC(C=1, gamma=1.0000000000000001e-09, probability=True))\n",
    " ))\n",
    "voting_clf = VotingClassifier(estimators=[('lr', log_clf), ('rf', rnd_clf), ('svc', rbf_kernel_svm_clf)], voting='soft')\n",
    "voting_clf.fit(train_x, train_y)"
   ]
  },
  {
   "cell_type": "code",
   "execution_count": 26,
   "metadata": {},
   "outputs": [
    {
     "data": {
      "image/png": "[encoded data removed]",
      "text/plain": [
       "<matplotlib.figure.Figure at 0x1a1f44ad68>"
      ]
     },
     "metadata": {},
     "output_type": "display_data"
    }
   ],
   "source": [
    "cv_svm = StratifiedKFold(n_splits=6)\n",
    "meu.draw_cv_roc_curve(voting_clf, cv_svm, train_x, train_y)"
   ]
  },
  {
   "cell_type": "code",
   "execution_count": 27,
   "metadata": {},
   "outputs": [
    {
     "data": {
      "image/png": "[encoded data removed]",
      "text/plain": [
       "<matplotlib.figure.Figure at 0x1a864b79e8>"
      ]
     },
     "metadata": {},
     "output_type": "display_data"
    }
   ],
   "source": [
    "meu.plot_precision_recall_curve(voting_clf, test_x, test_y)"
   ]
  },
  {
   "cell_type": "markdown",
   "metadata": {},
   "source": [
    "## Adaboost DecisionTree Classifier\n",
    "I wanted to test out if an ensamble method would work well with the given data. Used a decision tree classifier to mix things up a little. Did not work out as well as other methods."
   ]
  },
  {
   "cell_type": "code",
   "execution_count": 28,
   "metadata": {},
   "outputs": [
    {
     "data": {
      "text/plain": [
       "AdaBoostClassifier(algorithm='SAMME.R',\n",
       "          base_estimator=DecisionTreeClassifier(class_weight=None, criterion='gini', max_depth=1,\n",
       "            max_features=None, max_leaf_nodes=None,\n",
       "            min_impurity_decrease=0.0, min_impurity_split=None,\n",
       "            min_samples_leaf=1, min_samples_split=2,\n",
       "            min_weight_fraction_leaf=0.0, presort=False, random_state=None,\n",
       "            splitter='best'),\n",
       "          learning_rate=0.5, n_estimators=50, random_state=None)"
      ]
     },
     "execution_count": 28,
     "metadata": {},
     "output_type": "execute_result"
    }
   ],
   "source": [
    "from sklearn.ensemble import AdaBoostClassifier\n",
    "from sklearn.tree import DecisionTreeClassifier\n",
    "\n",
    "ada_clf = AdaBoostClassifier(\n",
    " DecisionTreeClassifier(max_depth=1),\n",
    " algorithm=\"SAMME.R\", learning_rate=0.5)\n",
    "ada_clf.fit(train_x, train_y)\n"
   ]
  },
  {
   "cell_type": "code",
   "execution_count": 29,
   "metadata": {},
   "outputs": [
    {
     "data": {
      "image/png": "[encoded data removed]",
      "text/plain": [
       "<matplotlib.figure.Figure at 0x10a9e97f0>"
      ]
     },
     "metadata": {},
     "output_type": "display_data"
    }
   ],
   "source": [
    "cv_svm = StratifiedKFold(n_splits=6)\n",
    "meu.draw_cv_roc_curve(ada_clf, cv_svm, train_x, train_y)"
   ]
  },
  {
   "cell_type": "code",
   "execution_count": 30,
   "metadata": {},
   "outputs": [
    {
     "data": {
      "image/png": "[encoded data removed]",
      "text/plain": [
       "<matplotlib.figure.Figure at 0x1a9498f048>"
      ]
     },
     "metadata": {},
     "output_type": "display_data"
    }
   ],
   "source": [
    "meu.plot_precision_recall_curve(ada_clf, test_x, test_y)"
   ]
  },
  {
   "cell_type": "markdown",
   "metadata": {},
   "source": [
    "## Build a Random Forest Classifier"
   ]
  },
  {
   "cell_type": "code",
   "execution_count": 17,
   "metadata": {
    "collapsed": true
   },
   "outputs": [],
   "source": [
    "clf = RandomForestClassifier()\n",
    "trained_model = clf.fit(train_x, train_y)"
   ]
  },
  {
   "cell_type": "markdown",
   "metadata": {},
   "source": [
    "### Evaluation"
   ]
  },
  {
   "cell_type": "code",
   "execution_count": 18,
   "metadata": {
    "collapsed": true
   },
   "outputs": [],
   "source": [
    "# Run classifier with cross-validation and plot ROC curves\n",
    "cv = StratifiedKFold(n_splits=6)"
   ]
  },
  {
   "cell_type": "code",
   "execution_count": 19,
   "metadata": {},
   "outputs": [
    {
     "data": {
      "image/png": "[encoded data removed]",
      "text/plain": [
       "<matplotlib.figure.Figure at 0x1a30a1bdd8>"
      ]
     },
     "metadata": {},
     "output_type": "display_data"
    }
   ],
   "source": [
    "# Creating ROC Curve with Cross Validation\n",
    "meu.draw_cv_roc_curve(clf, cv, train_x, train_y)"
   ]
  },
  {
   "cell_type": "code",
   "execution_count": 20,
   "metadata": {},
   "outputs": [
    {
     "data": {
      "image/png": "[encoded data removed]",
      "text/plain": [
       "<matplotlib.figure.Figure at 0x1a3ed7c4a8>"
      ]
     },
     "metadata": {},
     "output_type": "display_data"
    }
   ],
   "source": [
    "# Plotting Precision Recall Curve\n",
    "meu.plot_precision_recall_curve(clf, test_x, test_y)"
   ]
  },
  {
   "cell_type": "code",
   "execution_count": 26,
   "metadata": {
    "collapsed": true
   },
   "outputs": [],
   "source": [
    "predictions = trained_model.predict(test_x)"
   ]
  },
  {
   "cell_type": "code",
   "execution_count": null,
   "metadata": {
    "collapsed": true
   },
   "outputs": [],
   "source": [
    "# Train and Test Accuracy\n",
    "print(\"Train Accuracy :: \", accuracy_score(train_y, trained_model.predict(train_x)))\n",
    "print(\"Test Accuracy  :: \", accuracy_score(test_y, predictions))\n",
    "print(\" Confusion matrix \", confusion_matrix(test_y, predictions))"
   ]
  },
  {
   "cell_type": "code",
   "execution_count": null,
   "metadata": {
    "collapsed": true
   },
   "outputs": [],
   "source": [
    "meu.show_confusion_matrix(confusion_matrix(test_y, predictions))"
   ]
  },
  {
   "cell_type": "markdown",
   "metadata": {},
   "source": [
    "### Extracting Important Features"
   ]
  },
  {
   "cell_type": "code",
   "execution_count": null,
   "metadata": {
    "collapsed": true
   },
   "outputs": [],
   "source": [
    "importances = trained_model.feature_importances_\n",
    "std = np.std([tree.feature_importances_ for tree in trained_model.estimators_], axis=0)\n",
    "indices = np.argsort(importances)[::-1]\n",
    "\n",
    "# Print the feature ranking\n",
    "print(\"Feature ranking:\")\n",
    "\n",
    "#for f in range(train_x.shape[1]):\n",
    "for f in range(25): \n",
    "    column = train_x.columns[indices[f]]\n",
    "    print(\"{ranking}. feature {column} ({importance})\".format(ranking=f+1,\n",
    "                                                             column=column,\n",
    "                                                             importance=importances[indices[f]]))"
   ]
  },
  {
   "cell_type": "code",
   "execution_count": null,
   "metadata": {
    "collapsed": true
   },
   "outputs": [],
   "source": [
    "# Plot the feature importances of the forest\n",
    "top_features = 10\n",
    "plt.figure(figsize=(20, 10))\n",
    "plt.title(\"Feature importances\")\n",
    "plt.bar(range(top_features),\n",
    "        importances[indices[0:top_features]],\n",
    "        color=\"r\",\n",
    "        yerr=std[indices[0:top_features]],\n",
    "        align=\"center\")\n",
    "plt.xticks(range(top_features), train_x.columns[indices[0:top_features]])\n",
    "plt.xlim([-1, top_features])\n",
    "plt.show()"
   ]
  },
  {
   "cell_type": "code",
   "execution_count": null,
   "metadata": {
    "collapsed": true
   },
   "outputs": [],
   "source": []
  },
  {
   "cell_type": "code",
   "execution_count": null,
   "metadata": {
    "collapsed": true
   },
   "outputs": [],
   "source": []
  }
 ],
 "metadata": {
  "kernelspec": {
   "display_name": "Python 3",
   "language": "python",
   "name": "python3"
  },
  "language_info": {
   "codemirror_mode": {
    "name": "ipython",
    "version": 3
   },
   "file_extension": ".py",
   "mimetype": "text/x-python",
   "name": "python",
   "nbconvert_exporter": "python",
   "pygments_lexer": "ipython3",
   "version": "3.6.3"
  }
 },
 "nbformat": 4,
 "nbformat_minor": 1
}
