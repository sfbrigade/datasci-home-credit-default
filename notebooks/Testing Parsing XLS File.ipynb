{
 "cells": [
  {
   "cell_type": "code",
   "execution_count": 1,
   "metadata": {
    "collapsed": true
   },
   "outputs": [],
   "source": [
    "import argparse\n",
    "import glob\n",
    "import os\n",
    "import re\n",
    "import sys\n",
    "\n",
    "import pandas as pd\n",
    "import xlrd\n",
    "\n",
    "sys.path.append('../')"
   ]
  },
  {
   "cell_type": "markdown",
   "metadata": {},
   "source": [
    "## Parse in the XLS file\n",
    "https://www.sitepoint.com/using-python-parse-spreadsheet-data/\n",
    "\n",
    "To the best of our ability, we'll want to parse in a file similar to csv-candidates-2016.xls with the field names:\n",
    "1. COUNTY_ID\n",
    "2. COUNTY_NAME\n",
    "3. CONTEST_ID\n",
    "4. CONTEST_NAME\n",
    "5. CANDIDATE_ID\n",
    "6. CANDIDATE_NAME\n",
    "7. INCUMBENT_FLAG\n",
    "8. WRITE_IN_FLAG\n",
    "9. PARTY_ID\n",
    "10. PARTY_NAME\n",
    "11. VOTE_TOTAL"
   ]
  },
  {
   "cell_type": "code",
   "execution_count": 2,
   "metadata": {},
   "outputs": [],
   "source": [
    "def determine_incumbency_status(candidate_name):\n",
    "    \"\"\"\n",
    "    Given a Candidate Name determine whether the candidate was the incumbent.\n",
    "    \n",
    "    Keyword Args:\n",
    "        candidate_name: The Candidate's Name. If there's an \"*\", then the candidate is the incumbent.\n",
    "                        In the CA SOS Data, the candidate is marked as an incumbent by putting a \"*\" in their name.\n",
    "    Return:\n",
    "        True if candidate is the incumbent, else False\n",
    "    \"\"\"\n",
    "    if(re.search('\\*', candidate_name)):\n",
    "        return 'Y'\n",
    "    else:\n",
    "        return 'N'"
   ]
  },
  {
   "cell_type": "code",
   "execution_count": 3,
   "metadata": {
    "collapsed": true
   },
   "outputs": [],
   "source": [
    "def process_contest(rows, election_name, contest_name):\n",
    "    \"\"\"\n",
    "    Process Contest Results From CA SOS Statewide Election Results\n",
    "    \n",
    "    Keyword Args:\n",
    "      rows: List of Rows from an XLRD Worksheet Object.\n",
    "            The first row should be the candidate names.\n",
    "            The last row should be the 'Totals' (Votes) Row.\n",
    "      election_name: The name of the broader general election (e.g. 2016 General)\n",
    "      contest_name: The name of the specific contest within the election (e.g. Governor)\n",
    "    Return:\n",
    "      contest_results: Pandas DataFrame with the contest results unique at the:\n",
    "                         1. contest_name\n",
    "                         2. county_name\n",
    "                         3. candidate_name\n",
    "                       level.\n",
    "    \n",
    "    Note, this current implementation will only select the first two candidates.\n",
    "    \"\"\"\n",
    "    # Create a Dictionary mapping\n",
    "    #   1. Votes Column to Candidate\n",
    "    #   2. Candidate to Party  \n",
    "    candidate1 = rows[0][1].value\n",
    "    candidate2 = rows[0][2].value\n",
    "    party1 = rows[1][1].value\n",
    "    party2 = rows[1][2].value\n",
    "\n",
    "    vote_candidate_mapping = {\n",
    "        'votes1': candidate1,\n",
    "        'votes2': candidate2,\n",
    "    }\n",
    "\n",
    "    candidate_party_mapping = {\n",
    "        candidate1: party1,\n",
    "        candidate2: party2,\n",
    "    }\n",
    "    \n",
    "    # Parse Values\n",
    "    counties = []\n",
    "    votes1 = []\n",
    "    votes2 = []\n",
    "    for r in range(len(rows)):\n",
    "        if(re.search('percent', rows[r][0].value, re.IGNORECASE) or rows[r][0].value == ''):\n",
    "            pass\n",
    "        else:\n",
    "            counties.append(rows[r][0].value)\n",
    "            votes1.append(rows[r][1].value)\n",
    "            votes2.append(rows[r][2].value)\n",
    "            \n",
    "    df = pd.DataFrame({\n",
    "        'county_name': counties,\n",
    "        'votes1': votes1,\n",
    "        'votes2': votes2,\n",
    "    })\n",
    "    \n",
    "    # Rename Columns to Actual Candidate Names before Reshaping\n",
    "    df.rename(index=str, columns=vote_candidate_mapping, inplace=True)\n",
    "    \n",
    "    # Pivot the DataFrame to get at the county/candidate level\n",
    "    contest_results = pd.melt(df, id_vars=['county_name'], var_name='candidate_name', value_name='vote_total')\n",
    "    \n",
    "    # Add Additional Columns\n",
    "    contest_results['election_name'] = election_name\n",
    "    contest_results['contest_name'] = contest_name\n",
    "    contest_results['party_name'] = contest_results.candidate_name.map(candidate_party_mapping)\n",
    "    contest_results['incumbent_flag'] = contest_results.candidate_name.apply(determine_incumbency_status)\n",
    "    \n",
    "    # Reorder Columns\n",
    "    cols = [\n",
    "        'election_name',\n",
    "        'county_name',\n",
    "        'contest_name',\n",
    "        'candidate_name',\n",
    "        'incumbent_flag',\n",
    "        'party_name',\n",
    "        'vote_total',\n",
    "    ]\n",
    "\n",
    "    contest_results = contest_results[cols]\n",
    "    return contest_results"
   ]
  },
  {
   "cell_type": "code",
   "execution_count": 4,
   "metadata": {
    "collapsed": true
   },
   "outputs": [],
   "source": [
    "def get_district_metadata(rows):\n",
    "    \"\"\"\n",
    "    Gets the Metadata associated with District Level Election Results from CA SOS Data\n",
    "    \n",
    "    Keyword Args:\n",
    "      rows: List of Rows from an XLRD Worksheet Object.\n",
    "            This should be a list of all rows from an Excel file containing Election Results\n",
    "    Returns:\n",
    "      district_metadata: Python Dictionary with the contest_name as keys and as values another dictionary with keys:\n",
    "                           row_indices=(starting_index, end_index),\n",
    "                           contest_name,\n",
    "    \"\"\"\n",
    "    contest_name_idx = []\n",
    "    total_votes_idx = []\n",
    "\n",
    "    # Contest Name is inside the spreadsheet\n",
    "    for r in range(len(rows)):\n",
    "        contains_district = re.search('district', rows[r][0].value, re.IGNORECASE)\n",
    "        contains_totals = re.search('totals', rows[r][0].value, re.IGNORECASE)\n",
    "        if(contains_district and not(contains_totals)):\n",
    "            contest_name_idx.append(r)\n",
    "        if(contains_totals):\n",
    "            total_votes_idx.append(r)\n",
    "\n",
    "    # Assumes the voting results starts 2 rows after the District Name. This is very Hacky\n",
    "    starting_idx = [i + 2 for i in contest_name_idx]\n",
    "    \n",
    "    district_metadata = {}\n",
    "    for (cni, si, tvi) in zip(contest_name_idx, starting_idx, total_votes_idx):\n",
    "        contest_name = rows[cni][0].value\n",
    "        district_metadata[contest_name] = {'row_indices': (si, tvi + 1), 'contest_name': contest_name}\n",
    "    \n",
    "    return district_metadata"
   ]
  },
  {
   "cell_type": "code",
   "execution_count": 5,
   "metadata": {
    "collapsed": true
   },
   "outputs": [],
   "source": [
    "statewide_elections = [\n",
    "    '19-governor.xls',\n",
    "    '22-lieutenant-governor.xls',\n",
    "    '25-secretary-of-state (1).xls',\n",
    "    '28-controller.xls',\n",
    "    '31-treasurer.xls',\n",
    "    '34-attorney-general.xls',\n",
    "    '37-insurance-commissioner.xls',\n",
    "    '85-superintendent-of-public-instruction.xls',\n",
    "]\n",
    "\n",
    "district_elections = [\n",
    "    '40-board-of-equalization.xls',\n",
    "    '43-congress.xls',\n",
    "    '58-state-senator.xls',\n",
    "    '64-state-assemblymember.xls', \n",
    "]"
   ]
  },
  {
   "cell_type": "code",
   "execution_count": 6,
   "metadata": {
    "collapsed": true
   },
   "outputs": [],
   "source": [
    "# Hard Code Path to File for now\n",
    "directory = '/mnt/c/Users/vla/git/datasci-congressional-data/src/casos/'\n",
    "year = '2014'\n",
    "dir_files = os.listdir(os.path.join(directory, year))\n",
    "dir_files = [f for f in dir_files if f.endswith('.xls')]\n",
    "# filename = '19-governor.xls'\n",
    "# filename = '58-state-senator.xls'\n",
    "# file = os.path.join(directory, year, filename)"
   ]
  },
  {
   "cell_type": "code",
   "execution_count": 7,
   "metadata": {},
   "outputs": [
    {
     "data": {
      "text/plain": [
       "['19-governor.xls',\n",
       " '22-lieutenant-governor.xls',\n",
       " '25-secretary-of-state (1).xls',\n",
       " '28-controller.xls',\n",
       " '31-treasurer.xls',\n",
       " '34-attorney-general.xls',\n",
       " '37-insurance-commissioner.xls',\n",
       " '40-board-of-equalization.xls',\n",
       " '43-congress.xls',\n",
       " '58-state-senator.xls',\n",
       " '64-state-assemblymember.xls',\n",
       " '85-superintendent-of-public-instruction.xls']"
      ]
     },
     "execution_count": 7,
     "metadata": {},
     "output_type": "execute_result"
    }
   ],
   "source": [
    "dir_files"
   ]
  },
  {
   "cell_type": "code",
   "execution_count": 8,
   "metadata": {
    "collapsed": true
   },
   "outputs": [],
   "source": [
    "# Hard Code Election Name for now as the Year + 'General'\n",
    "election_name = '{} General'.format(year)\n",
    "\n",
    "# Create Results List where each element will be a DataFrame of Contest Results\n",
    "results = []\n",
    "for filename in dir_files:\n",
    "    file = os.path.join(directory, year, filename)\n",
    "    workbook = xlrd.open_workbook(file)\n",
    "    worksheet = workbook.sheet_by_index(0)  # By Default usually there's only one sheet. This is Hacky. How to be robust?\n",
    "    rows = [worksheet.row(r) for r in range(worksheet.nrows)]\n",
    "\n",
    "    if(filename in statewide_elections):\n",
    "        # Extract Contest Name from Filename\n",
    "        # Reg Exp: https://stackoverflow.com/questions/8199398/extracting-only-characters-from-a-string-in-python\n",
    "        contest_name = re.findall(r\"(?i)\\b[a-z]+\\b\", filename)[0]\n",
    "        contest_rows = rows\n",
    "        contest_results = process_contest(rows=contest_rows, election_name=election_name, contest_name=contest_name)\n",
    "        results.append(contest_results)\n",
    "    elif(filename in district_elections):\n",
    "        # For District Elections:\n",
    "        district_metadata = get_district_metadata(rows)\n",
    "        for key in district_metadata:\n",
    "            contest_name = district_metadata[key]['contest_name']\n",
    "            starting_idx = district_metadata[key]['row_indices'][0]\n",
    "            ending_idx = district_metadata[key]['row_indices'][1]\n",
    "            contest_rows = rows[starting_idx:ending_idx]\n",
    "            contest_results = process_contest(rows=contest_rows, election_name=election_name, contest_name=contest_name)\n",
    "            results.append(contest_results)"
   ]
  },
  {
   "cell_type": "code",
   "execution_count": 10,
   "metadata": {},
   "outputs": [],
   "source": [
    "df = pd.concat(results, ignore_index=True)"
   ]
  },
  {
   "cell_type": "code",
   "execution_count": 11,
   "metadata": {},
   "outputs": [
    {
     "data": {
      "text/html": [
       "<div>\n",
       "<style>\n",
       "    .dataframe thead tr:only-child th {\n",
       "        text-align: right;\n",
       "    }\n",
       "\n",
       "    .dataframe thead th {\n",
       "        text-align: left;\n",
       "    }\n",
       "\n",
       "    .dataframe tbody tr th {\n",
       "        vertical-align: top;\n",
       "    }\n",
       "</style>\n",
       "<table border=\"1\" class=\"dataframe\">\n",
       "  <thead>\n",
       "    <tr style=\"text-align: right;\">\n",
       "      <th></th>\n",
       "      <th>election_name</th>\n",
       "      <th>county_name</th>\n",
       "      <th>contest_name</th>\n",
       "      <th>candidate_name</th>\n",
       "      <th>incumbent_flag</th>\n",
       "      <th>party_name</th>\n",
       "      <th>vote_total</th>\n",
       "    </tr>\n",
       "  </thead>\n",
       "  <tbody>\n",
       "    <tr>\n",
       "      <th>0</th>\n",
       "      <td>2014 General</td>\n",
       "      <td>Alameda</td>\n",
       "      <td>governor</td>\n",
       "      <td>Edmund G. \"Jerry\" Brown*</td>\n",
       "      <td>Y</td>\n",
       "      <td>DEM</td>\n",
       "      <td>293081</td>\n",
       "    </tr>\n",
       "    <tr>\n",
       "      <th>1</th>\n",
       "      <td>2014 General</td>\n",
       "      <td>Alpine</td>\n",
       "      <td>governor</td>\n",
       "      <td>Edmund G. \"Jerry\" Brown*</td>\n",
       "      <td>Y</td>\n",
       "      <td>DEM</td>\n",
       "      <td>284</td>\n",
       "    </tr>\n",
       "    <tr>\n",
       "      <th>2</th>\n",
       "      <td>2014 General</td>\n",
       "      <td>Amador</td>\n",
       "      <td>governor</td>\n",
       "      <td>Edmund G. \"Jerry\" Brown*</td>\n",
       "      <td>Y</td>\n",
       "      <td>DEM</td>\n",
       "      <td>5682</td>\n",
       "    </tr>\n",
       "    <tr>\n",
       "      <th>3</th>\n",
       "      <td>2014 General</td>\n",
       "      <td>Butte</td>\n",
       "      <td>governor</td>\n",
       "      <td>Edmund G. \"Jerry\" Brown*</td>\n",
       "      <td>Y</td>\n",
       "      <td>DEM</td>\n",
       "      <td>29520</td>\n",
       "    </tr>\n",
       "    <tr>\n",
       "      <th>4</th>\n",
       "      <td>2014 General</td>\n",
       "      <td>Calaveras</td>\n",
       "      <td>governor</td>\n",
       "      <td>Edmund G. \"Jerry\" Brown*</td>\n",
       "      <td>Y</td>\n",
       "      <td>DEM</td>\n",
       "      <td>6870</td>\n",
       "    </tr>\n",
       "  </tbody>\n",
       "</table>\n",
       "</div>"
      ],
      "text/plain": [
       "  election_name county_name contest_name            candidate_name  \\\n",
       "0  2014 General     Alameda     governor  Edmund G. \"Jerry\" Brown*   \n",
       "1  2014 General      Alpine     governor  Edmund G. \"Jerry\" Brown*   \n",
       "2  2014 General      Amador     governor  Edmund G. \"Jerry\" Brown*   \n",
       "3  2014 General       Butte     governor  Edmund G. \"Jerry\" Brown*   \n",
       "4  2014 General   Calaveras     governor  Edmund G. \"Jerry\" Brown*   \n",
       "\n",
       "  incumbent_flag party_name vote_total  \n",
       "0              Y        DEM     293081  \n",
       "1              Y        DEM        284  \n",
       "2              Y        DEM       5682  \n",
       "3              Y        DEM      29520  \n",
       "4              Y        DEM       6870  "
      ]
     },
     "execution_count": 11,
     "metadata": {},
     "output_type": "execute_result"
    }
   ],
   "source": [
    "df.head()"
   ]
  },
  {
   "cell_type": "code",
   "execution_count": 12,
   "metadata": {},
   "outputs": [
    {
     "data": {
      "text/plain": [
       "(2050, 7)"
      ]
     },
     "execution_count": 12,
     "metadata": {},
     "output_type": "execute_result"
    }
   ],
   "source": [
    "df.shape"
   ]
  },
  {
   "cell_type": "code",
   "execution_count": 17,
   "metadata": {},
   "outputs": [],
   "source": [
    "df.to_excel('/mnt/c/Users/vla/git/datasci-congressional-data/src/casos/csv-candidates-2014.xls', index=False)"
   ]
  },
  {
   "cell_type": "code",
   "execution_count": null,
   "metadata": {
    "collapsed": true
   },
   "outputs": [],
   "source": []
  }
 ],
 "metadata": {
  "kernelspec": {
   "display_name": "Python 3",
   "language": "python",
   "name": "python3"
  },
  "language_info": {
   "codemirror_mode": {
    "name": "ipython",
    "version": 3
   },
   "file_extension": ".py",
   "mimetype": "text/x-python",
   "name": "python",
   "nbconvert_exporter": "python",
   "pygments_lexer": "ipython3",
   "version": "3.6.1"
  }
 },
 "nbformat": 4,
 "nbformat_minor": 2
}
