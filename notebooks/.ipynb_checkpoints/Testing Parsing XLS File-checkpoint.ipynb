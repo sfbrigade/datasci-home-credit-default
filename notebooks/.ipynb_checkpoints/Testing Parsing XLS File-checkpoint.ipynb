{
 "cells": [
  {
   "cell_type": "code",
   "execution_count": 8,
   "metadata": {
    "collapsed": true
   },
   "outputs": [],
   "source": [
    "import argparse\n",
    "import glob\n",
    "import os\n",
    "import re\n",
    "import sys\n",
    "\n",
    "import xlrd\n",
    "\n",
    "sys.path.append('../')"
   ]
  },
  {
   "attachments": {},
   "cell_type": "markdown",
   "metadata": {},
   "source": [
    "## Parse in the XLS file\n",
    "https://www.sitepoint.com/using-python-parse-spreadsheet-data/\n",
    "\n",
    "To the best of our ability, we'll want to parse in a file similar to csv-candidates-2016.xls with the field names:\n",
    "1. COUNTY_ID\n",
    "2. COUNTY_NAME\n",
    "3. CONTEST_ID\n",
    "4. CONTEST_NAME\n",
    "5. CANDIDATE_ID\n",
    "6. CANDIDATE_NAME\n",
    "7. INCUMBENT_FLAG\n",
    "8. WRITE_IN_FLAG\n",
    "9. PARTY_ID\n",
    "10. PARTY_NAME\n",
    "11. VOTE_TOTAL"
   ]
  },
  {
   "cell_type": "code",
   "execution_count": 11,
   "metadata": {},
   "outputs": [],
   "source": [
    "workbook = xlrd.open_workbook('/Users/VincentLa/git/datasci-congressional-data/src/casos/2014/19-governor.xls')"
   ]
  },
  {
   "cell_type": "code",
   "execution_count": 12,
   "metadata": {
    "collapsed": true
   },
   "outputs": [],
   "source": [
    "worksheet = workbook.sheet_by_index(0)"
   ]
  },
  {
   "cell_type": "code",
   "execution_count": 15,
   "metadata": {},
   "outputs": [
    {
     "data": {
      "text/plain": [
       "'Edmund G. \"Jerry\" Brown*'"
      ]
     },
     "execution_count": 15,
     "metadata": {},
     "output_type": "execute_result"
    }
   ],
   "source": [
    "worksheet.cell(0, 1).value"
   ]
  },
  {
   "cell_type": "code",
   "execution_count": null,
   "metadata": {
    "collapsed": true
   },
   "outputs": [],
   "source": []
  }
 ],
 "metadata": {
  "kernelspec": {
   "display_name": "Python (datasci-congressional-data)",
   "language": "python",
   "name": "datasci-congressional-data"
  },
  "language_info": {
   "codemirror_mode": {
    "name": "ipython",
    "version": 3
   },
   "file_extension": ".py",
   "mimetype": "text/x-python",
   "name": "python",
   "nbconvert_exporter": "python",
   "pygments_lexer": "ipython3",
   "version": "3.5.1"
  }
 },
 "nbformat": 4,
 "nbformat_minor": 2
}
