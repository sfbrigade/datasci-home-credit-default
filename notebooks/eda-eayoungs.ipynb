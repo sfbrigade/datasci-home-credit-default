{
 "cells": [
  {
   "cell_type": "markdown",
   "metadata": {},
   "source": [
    "# SQL Querying"
   ]
  },
  {
   "cell_type": "markdown",
   "metadata": {},
   "source": [
    "This notebook can be used to query tables in the Congressional Data database. In order to use this notebook, you will need to set an environment variable 'CD_DWH' to the database connection string. If you do not have the credentials, please slack us at #datasci-congressdata channel and/or talk to a project lead.\n",
    "\n",
    "**It is best practice to not hard code database URI strings directly in notebooks or code as when we push to Github, that would mean credentials are public for anyone to see.**"
   ]
  },
  {
   "cell_type": "code",
   "execution_count": null,
   "metadata": {},
   "outputs": [],
   "source": [
    "import os\n",
    "import sys\n",
    "import math\n",
    "\n",
    "import pandas as pd\n",
    "pd.options.display.max_columns = 999\n",
    "import sqlalchemy as sqla\n",
    "from sqlalchemy import create_engine\n",
    "\n",
    "from plotnine import *\n",
    "import plotly\n",
    "import urllib, json\n",
    "\n",
    "DB_URI = os.getenv('CD_DWH')\n",
    "engine = create_engine(DB_URI)"
   ]
  },
  {
   "cell_type": "code",
   "execution_count": null,
   "metadata": {},
   "outputs": [],
   "source": [
    "# Checking that the Kernel is using the Conda environment datasci-congressional-data\n",
    "# Below you should see something like '/Users/Username/anaconda3/envs/datasci-congressional-data/bin/python\n",
    "# If you do NOT see \"datasci-congressional-data\" this means you are not in the right Python Environment\n",
    "# Please make sure you have gone through the onboarding docs and/or talk to a project lead.\n",
    "sys.executable"
   ]
  },
  {
   "cell_type": "markdown",
   "metadata": {},
   "source": [
    "Below are the tables that currently exist in the database!"
   ]
  },
  {
   "cell_type": "markdown",
   "metadata": {},
   "source": [
    "## Query table & visualize frequency plots"
   ]
  },
  {
   "cell_type": "code",
   "execution_count": null,
   "metadata": {},
   "outputs": [],
   "source": [
    "QUERRY = \"\"\"\n",
    "SELECT\n",
    "    *\n",
    "  FROM trg_analytics.candidate_contributions \"\"\"\n",
    "with engine.begin() as conn:\n",
    "    results = pd.read_sql(QUERRY, conn)"
   ]
  },
  {
   "cell_type": "code",
   "execution_count": null,
   "metadata": {},
   "outputs": [],
   "source": [
    "#results.to_csv(\"trg_analytics-candidate_contrib.csv\")\n",
    "#results.head()\n",
    "results['transaction_amount'].describe()"
   ]
  },
  {
   "cell_type": "code",
   "execution_count": null,
   "metadata": {},
   "outputs": [],
   "source": [
    "transactions = results['transaction_amount']\n",
    "ninety_ninth_quantile = math.floor(transactions.quantile(0.99))\n",
    "contribs = transactions[transactions.between(0, ninety_ninth_quantile, inclusive=False)]\n",
    "contribs.describe()"
   ]
  },
  {
   "cell_type": "code",
   "execution_count": null,
   "metadata": {},
   "outputs": [],
   "source": [
    "contribs.hist(bins=50)"
   ]
  },
  {
   "cell_type": "code",
   "execution_count": null,
   "metadata": {},
   "outputs": [],
   "source": [
    "candidate_contrib = results.groupby('recipient_candidate_office').agg({'transaction_amount': ['sum']})\n",
    "candidate_contrib_vals = candidate_contrib['transaction_amount', 'sum']\n",
    "candidate_contrib_vals.sort_values().plot.barh()"
   ]
  },
  {
   "cell_type": "markdown",
   "metadata": {},
   "source": [
    "(ggplot(data = results)\n",
    "  + geom_freqpoly(aes(x=results['transaction_date']\n",
    "                      , color=results['recipient_candidate_office'])\n",
    "                      , binwidth=2000.0)\n",
    ")"
   ]
  },
  {
   "cell_type": "code",
   "execution_count": null,
   "metadata": {},
   "outputs": [],
   "source": [
    "st_assem_results = results[(results['recipient_candidate_office']=='State Assembly') &\n",
    "                            (results['election_cycle']=='2015')]\n",
    "st_assem_candid = st_assem_results.groupby('recipient_candidate_name').agg({'transaction_amount': ['sum']})\n",
    "st_assem_candid_vals = st_assem_candid['transaction_amount','sum']\n",
    "st_assem_candid_vals.sort_values(ascending=False)[:30].plot.bar()"
   ]
  },
  {
   "cell_type": "code",
   "execution_count": null,
   "metadata": {},
   "outputs": [],
   "source": [
    "donor_contrib = st_assem_results.groupby('donor_organization').agg({'transaction_amount': ['sum']})\n",
    "donor_contrib_vals = donor_contrib['transaction_amount', 'sum']\n",
    "donor_contrib_vals.sort_values(ascending=False).plot.bar()"
   ]
  },
  {
   "cell_type": "code",
   "execution_count": null,
   "metadata": {},
   "outputs": [],
   "source": [
    "oth_results = st_assem_results[results['donor_organization']=='OTH']\n",
    "oth_pac = oth_results[oth_results['donor_name'].str.contains('PAC')]\n",
    "(len(oth_pac) / len(oth_results))"
   ]
  },
  {
   "cell_type": "code",
   "execution_count": null,
   "metadata": {},
   "outputs": [],
   "source": [
    "#len(oth_results[oth_results['donor_industry']!='0']) / len(oth_results)\n",
    "oth_results.head()"
   ]
  },
  {
   "cell_type": "code",
   "execution_count": null,
   "metadata": {},
   "outputs": [],
   "source": [
    "scc_results = st_assem_results[results['donor_organization']=='SCC']\n",
    "scc_pac = scc_results[scc_results['donor_name'].str.contains('PAC')]\n",
    "(len(scc_pac) / len(scc_results))"
   ]
  },
  {
   "cell_type": "code",
   "execution_count": null,
   "metadata": {},
   "outputs": [],
   "source": [
    "rcp_results = st_assem_results[results['donor_organization']=='RCP']\n",
    "rcp_pac = rcp_results[rcp_results['donor_name'].str.contains('PAC')]\n",
    "(len(rcp_pac) / len(rcp_results))"
   ]
  },
  {
   "cell_type": "code",
   "execution_count": null,
   "metadata": {},
   "outputs": [],
   "source": [
    "results['election_cycle'].unique()"
   ]
  },
  {
   "cell_type": "code",
   "execution_count": null,
   "metadata": {},
   "outputs": [],
   "source": [
    "contrib_flow = results[[\n",
    "    'election_cycle',\n",
    "    'transaction_amount',\n",
    "    'donor_zip_code',\n",
    "    'recipient_candidate_district'\n",
    "]].\\\n",
    "groupby(['election_cycle',\n",
    "         'donor_zip_code',\n",
    "         'recipient_candidate_district',])"
   ]
  },
  {
   "cell_type": "code",
   "execution_count": null,
   "metadata": {},
   "outputs": [],
   "source": [
    "#contrib_flow.groups\n",
    "contrib_flow.get_group(('2013', '95814-3963', '14'))['transaction_amount']"
   ]
  },
  {
   "cell_type": "markdown",
   "metadata": {},
   "source": [
    "### For instructions on setting up Plotly for producing charts see the following link\n",
    "https://plot.ly/python/getting-started/\n",
    "\n",
    "I'm using credentials stored in `~/.plotly/.credentials`\n",
    "\n",
    "#### For an explanation of the chart below see the following links\n",
    "https://plot.ly/~alishobeiri/1257/plotly-sankey-diagrams/\n",
    "\n",
    "#### Data for the diagram can be found here.\n",
    "https://github.com/plotly/dash-app-datasets/blob/master/scottish-votes.csv\n",
    "\n",
    "**Note:** this is temporary data-set from the example as a placeholder"
   ]
  },
  {
   "cell_type": "code",
   "execution_count": null,
   "metadata": {},
   "outputs": [],
   "source": [
    "scottish_df = pd.read_csv('scottish-votes.csv')\n",
    "\n",
    "data_trace = dict(\n",
    "    type='sankey',\n",
    "    domain = dict(\n",
    "      x =  [0,1],\n",
    "      y =  [0,1]\n",
    "    ),\n",
    "    orientation = \"h\",\n",
    "    valueformat = \".0f\",\n",
    "    node = dict(\n",
    "      pad = 10,\n",
    "      thickness = 30,\n",
    "      line = dict(\n",
    "        color = \"black\",\n",
    "        width = 0\n",
    "      ),\n",
    "      label =  scottish_df['Node, Label'].dropna(axis=0, how='any'),\n",
    "      color = scottish_df['Color']\n",
    "    ),\n",
    "    link = dict(\n",
    "      source = scottish_df['Source'].dropna(axis=0, how='any'),\n",
    "      target = scottish_df['Target'].dropna(axis=0, how='any'),\n",
    "      value = scottish_df['Value'].dropna(axis=0, how='any'),\n",
    "      color = scottish_df['Link Color'].dropna(axis=0, how='any'),\n",
    "  )\n",
    ")\n",
    "\n",
    "layout =  dict(\n",
    "    title = \"Campaign Contributions from Donor Zip Code to Candidate District\",\n",
    "    height = 772,\n",
    "    width = 950,\n",
    "    font = dict(\n",
    "      size = 10\n",
    "    ),    \n",
    ")\n",
    "\n",
    "fig = dict(data=[data_trace], layout=layout)\n",
    "plotly.plotly.iplot(fig, validate=False)"
   ]
  }
 ],
 "metadata": {
  "kernelspec": {
   "display_name": "Python 3",
   "language": "python",
   "name": "python3"
  },
  "language_info": {
   "codemirror_mode": {
    "name": "ipython",
    "version": 3
   },
   "file_extension": ".py",
   "mimetype": "text/x-python",
   "name": "python",
   "nbconvert_exporter": "python",
   "pygments_lexer": "ipython3",
   "version": "3.6.2"
  }
 },
 "nbformat": 4,
 "nbformat_minor": 2
}
